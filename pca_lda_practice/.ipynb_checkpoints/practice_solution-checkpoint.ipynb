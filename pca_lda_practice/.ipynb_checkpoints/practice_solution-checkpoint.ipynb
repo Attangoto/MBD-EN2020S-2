{
 "cells": [
  {
   "cell_type": "code",
   "execution_count": 1,
   "metadata": {},
   "outputs": [
    {
     "data": {
      "text/html": [
       "<style>.container { width:100% !important; }</style>"
      ],
      "text/plain": [
       "<IPython.core.display.HTML object>"
      ]
     },
     "metadata": {},
     "output_type": "display_data"
    },
    {
     "data": {
      "text/html": [
       "<style>.rendered_html { font-size: 16px; }</style>"
      ],
      "text/plain": [
       "<IPython.core.display.HTML object>"
      ]
     },
     "metadata": {},
     "output_type": "display_data"
    }
   ],
   "source": [
    "from IPython.core.display import display, HTML\n",
    "\n",
    "display(HTML(\"<style>.container { width:100% !important; }</style>\")) # Increase cell width\n",
    "display(HTML(\"<style>.rendered_html { font-size: 16px; }</style>\")) # Increase font size\n",
    "\n",
    "import warnings\n",
    "warnings.filterwarnings('ignore')\n",
    "\n",
    "import matplotlib\n",
    "import matplotlib.pyplot as plt\n",
    "%matplotlib inline  "
   ]
  },
  {
   "cell_type": "code",
   "execution_count": 2,
   "metadata": {},
   "outputs": [],
   "source": [
    "import pandas as pd\n",
    "import numpy as np"
   ]
  },
  {
   "cell_type": "markdown",
   "metadata": {},
   "source": [
    "# Introduction\n",
    "\n",
    "For this practice we are going to use the Breast Cancer Wisconsin data set from the [*UCI Machine learning repo*](http://archive.ics.uci.edu/ml/datasets/Breast+Cancer+Wisconsin+%28Diagnostic%29) and try to detect whether a breast cancer cell is benign or malignant.\n",
    "\n",
    "The dataset includes  569 observations and 32 variables measuring the size and shape of cell nuclei. Features are computed from a digitized image of a fine needle aspirate (FNA) of a breast mass.  They describe characteristics of the cell nuclei present in the image.\n",
    "\n",
    "In more detail, the diagnosis, a categorical variable, is our response variable and the 30 measurement variables, all of which are continuous, are our potential explanatory variables for our model.\n",
    "These 30 measurement variables are actually only 10 different features of the nucleus, but with 3 different measurements of each: mean, standard error and the ‘worst’ or largest (mean of the three largest values).\n",
    "\n",
    "The features included are:\n",
    "\n",
    "* **radius** - mean of distances from center to points on the perimeter\n",
    "* **texture** - standard deviation of gray-scale values\n",
    "* **perimeter**\n",
    "* **area**\n",
    "* **smoothness** - local variation in radius lengths\n",
    "* **compactness** - perimeter^2 / area - 1.0\n",
    "* **concavity** - severity of concave portions of the contour\n",
    "* **concave points** - number of concave portions of the contour\n",
    "* **symmetry** \n",
    "* **fractal dimension** - \"coastline approximation\" - 1"
   ]
  },
  {
   "cell_type": "markdown",
   "metadata": {},
   "source": [
    "# Data Loading\n",
    "\n",
    "We load the dataset from the CSV file"
   ]
  },
  {
   "cell_type": "code",
   "execution_count": 3,
   "metadata": {},
   "outputs": [
    {
     "data": {
      "text/html": [
       "<div>\n",
       "<style scoped>\n",
       "    .dataframe tbody tr th:only-of-type {\n",
       "        vertical-align: middle;\n",
       "    }\n",
       "\n",
       "    .dataframe tbody tr th {\n",
       "        vertical-align: top;\n",
       "    }\n",
       "\n",
       "    .dataframe thead th {\n",
       "        text-align: right;\n",
       "    }\n",
       "</style>\n",
       "<table border=\"1\" class=\"dataframe\">\n",
       "  <thead>\n",
       "    <tr style=\"text-align: right;\">\n",
       "      <th></th>\n",
       "      <th>id</th>\n",
       "      <th>diagnosis</th>\n",
       "      <th>radius_mean</th>\n",
       "      <th>texture_mean</th>\n",
       "      <th>perimeter_mean</th>\n",
       "      <th>area_mean</th>\n",
       "      <th>smoothness_mean</th>\n",
       "      <th>compactness_mean</th>\n",
       "      <th>concavity_mean</th>\n",
       "      <th>concave points_mean</th>\n",
       "      <th>...</th>\n",
       "      <th>texture_worst</th>\n",
       "      <th>perimeter_worst</th>\n",
       "      <th>area_worst</th>\n",
       "      <th>smoothness_worst</th>\n",
       "      <th>compactness_worst</th>\n",
       "      <th>concavity_worst</th>\n",
       "      <th>concave points_worst</th>\n",
       "      <th>symmetry_worst</th>\n",
       "      <th>fractal_dimension_worst</th>\n",
       "      <th>Unnamed: 32</th>\n",
       "    </tr>\n",
       "  </thead>\n",
       "  <tbody>\n",
       "    <tr>\n",
       "      <th>0</th>\n",
       "      <td>842302</td>\n",
       "      <td>M</td>\n",
       "      <td>17.99</td>\n",
       "      <td>10.38</td>\n",
       "      <td>122.80</td>\n",
       "      <td>1001.0</td>\n",
       "      <td>0.11840</td>\n",
       "      <td>0.27760</td>\n",
       "      <td>0.3001</td>\n",
       "      <td>0.14710</td>\n",
       "      <td>...</td>\n",
       "      <td>17.33</td>\n",
       "      <td>184.60</td>\n",
       "      <td>2019.0</td>\n",
       "      <td>0.1622</td>\n",
       "      <td>0.6656</td>\n",
       "      <td>0.7119</td>\n",
       "      <td>0.2654</td>\n",
       "      <td>0.4601</td>\n",
       "      <td>0.11890</td>\n",
       "      <td>NaN</td>\n",
       "    </tr>\n",
       "    <tr>\n",
       "      <th>1</th>\n",
       "      <td>842517</td>\n",
       "      <td>M</td>\n",
       "      <td>20.57</td>\n",
       "      <td>17.77</td>\n",
       "      <td>132.90</td>\n",
       "      <td>1326.0</td>\n",
       "      <td>0.08474</td>\n",
       "      <td>0.07864</td>\n",
       "      <td>0.0869</td>\n",
       "      <td>0.07017</td>\n",
       "      <td>...</td>\n",
       "      <td>23.41</td>\n",
       "      <td>158.80</td>\n",
       "      <td>1956.0</td>\n",
       "      <td>0.1238</td>\n",
       "      <td>0.1866</td>\n",
       "      <td>0.2416</td>\n",
       "      <td>0.1860</td>\n",
       "      <td>0.2750</td>\n",
       "      <td>0.08902</td>\n",
       "      <td>NaN</td>\n",
       "    </tr>\n",
       "    <tr>\n",
       "      <th>2</th>\n",
       "      <td>84300903</td>\n",
       "      <td>M</td>\n",
       "      <td>19.69</td>\n",
       "      <td>21.25</td>\n",
       "      <td>130.00</td>\n",
       "      <td>1203.0</td>\n",
       "      <td>0.10960</td>\n",
       "      <td>0.15990</td>\n",
       "      <td>0.1974</td>\n",
       "      <td>0.12790</td>\n",
       "      <td>...</td>\n",
       "      <td>25.53</td>\n",
       "      <td>152.50</td>\n",
       "      <td>1709.0</td>\n",
       "      <td>0.1444</td>\n",
       "      <td>0.4245</td>\n",
       "      <td>0.4504</td>\n",
       "      <td>0.2430</td>\n",
       "      <td>0.3613</td>\n",
       "      <td>0.08758</td>\n",
       "      <td>NaN</td>\n",
       "    </tr>\n",
       "    <tr>\n",
       "      <th>3</th>\n",
       "      <td>84348301</td>\n",
       "      <td>M</td>\n",
       "      <td>11.42</td>\n",
       "      <td>20.38</td>\n",
       "      <td>77.58</td>\n",
       "      <td>386.1</td>\n",
       "      <td>0.14250</td>\n",
       "      <td>0.28390</td>\n",
       "      <td>0.2414</td>\n",
       "      <td>0.10520</td>\n",
       "      <td>...</td>\n",
       "      <td>26.50</td>\n",
       "      <td>98.87</td>\n",
       "      <td>567.7</td>\n",
       "      <td>0.2098</td>\n",
       "      <td>0.8663</td>\n",
       "      <td>0.6869</td>\n",
       "      <td>0.2575</td>\n",
       "      <td>0.6638</td>\n",
       "      <td>0.17300</td>\n",
       "      <td>NaN</td>\n",
       "    </tr>\n",
       "    <tr>\n",
       "      <th>4</th>\n",
       "      <td>84358402</td>\n",
       "      <td>M</td>\n",
       "      <td>20.29</td>\n",
       "      <td>14.34</td>\n",
       "      <td>135.10</td>\n",
       "      <td>1297.0</td>\n",
       "      <td>0.10030</td>\n",
       "      <td>0.13280</td>\n",
       "      <td>0.1980</td>\n",
       "      <td>0.10430</td>\n",
       "      <td>...</td>\n",
       "      <td>16.67</td>\n",
       "      <td>152.20</td>\n",
       "      <td>1575.0</td>\n",
       "      <td>0.1374</td>\n",
       "      <td>0.2050</td>\n",
       "      <td>0.4000</td>\n",
       "      <td>0.1625</td>\n",
       "      <td>0.2364</td>\n",
       "      <td>0.07678</td>\n",
       "      <td>NaN</td>\n",
       "    </tr>\n",
       "  </tbody>\n",
       "</table>\n",
       "<p>5 rows × 33 columns</p>\n",
       "</div>"
      ],
      "text/plain": [
       "         id diagnosis  radius_mean  texture_mean  perimeter_mean  area_mean  \\\n",
       "0    842302         M        17.99         10.38          122.80     1001.0   \n",
       "1    842517         M        20.57         17.77          132.90     1326.0   \n",
       "2  84300903         M        19.69         21.25          130.00     1203.0   \n",
       "3  84348301         M        11.42         20.38           77.58      386.1   \n",
       "4  84358402         M        20.29         14.34          135.10     1297.0   \n",
       "\n",
       "   smoothness_mean  compactness_mean  concavity_mean  concave points_mean  \\\n",
       "0          0.11840           0.27760          0.3001              0.14710   \n",
       "1          0.08474           0.07864          0.0869              0.07017   \n",
       "2          0.10960           0.15990          0.1974              0.12790   \n",
       "3          0.14250           0.28390          0.2414              0.10520   \n",
       "4          0.10030           0.13280          0.1980              0.10430   \n",
       "\n",
       "   ...  texture_worst  perimeter_worst  area_worst  smoothness_worst  \\\n",
       "0  ...          17.33           184.60      2019.0            0.1622   \n",
       "1  ...          23.41           158.80      1956.0            0.1238   \n",
       "2  ...          25.53           152.50      1709.0            0.1444   \n",
       "3  ...          26.50            98.87       567.7            0.2098   \n",
       "4  ...          16.67           152.20      1575.0            0.1374   \n",
       "\n",
       "   compactness_worst  concavity_worst  concave points_worst  symmetry_worst  \\\n",
       "0             0.6656           0.7119                0.2654          0.4601   \n",
       "1             0.1866           0.2416                0.1860          0.2750   \n",
       "2             0.4245           0.4504                0.2430          0.3613   \n",
       "3             0.8663           0.6869                0.2575          0.6638   \n",
       "4             0.2050           0.4000                0.1625          0.2364   \n",
       "\n",
       "   fractal_dimension_worst  Unnamed: 32  \n",
       "0                  0.11890          NaN  \n",
       "1                  0.08902          NaN  \n",
       "2                  0.08758          NaN  \n",
       "3                  0.17300          NaN  \n",
       "4                  0.07678          NaN  \n",
       "\n",
       "[5 rows x 33 columns]"
      ]
     },
     "execution_count": 3,
     "metadata": {},
     "output_type": "execute_result"
    }
   ],
   "source": [
    "original_dataset = pd.read_csv(\"./data/data.csv\") # We keep the original dataset for comparison\n",
    "dataset = original_dataset\n",
    "\n",
    "dataset.head(5)"
   ]
  },
  {
   "cell_type": "markdown",
   "metadata": {},
   "source": [
    "As we discussed in class, you need to standardize the data since before applying PCA. PCA's output is influenced based on the scale of the features of the data.\n",
    "\n",
    "To apply normalization, you will import the `StandardScaler` module from the sklearn library and then apply scaling by doing `fit_transform` on the feature data.\n",
    "\n",
    "While applying `StandardScaler`, each feature of your data should be normally distributed such that it will scale the distribution to a mean of zero and a standard deviation of one."
   ]
  },
  {
   "cell_type": "code",
   "execution_count": 4,
   "metadata": {},
   "outputs": [
    {
     "data": {
      "text/html": [
       "<div>\n",
       "<style scoped>\n",
       "    .dataframe tbody tr th:only-of-type {\n",
       "        vertical-align: middle;\n",
       "    }\n",
       "\n",
       "    .dataframe tbody tr th {\n",
       "        vertical-align: top;\n",
       "    }\n",
       "\n",
       "    .dataframe thead th {\n",
       "        text-align: right;\n",
       "    }\n",
       "</style>\n",
       "<table border=\"1\" class=\"dataframe\">\n",
       "  <thead>\n",
       "    <tr style=\"text-align: right;\">\n",
       "      <th></th>\n",
       "      <th>id</th>\n",
       "      <th>diagnosis</th>\n",
       "      <th>radius_mean</th>\n",
       "      <th>texture_mean</th>\n",
       "      <th>perimeter_mean</th>\n",
       "      <th>area_mean</th>\n",
       "      <th>smoothness_mean</th>\n",
       "      <th>compactness_mean</th>\n",
       "      <th>concavity_mean</th>\n",
       "      <th>concave points_mean</th>\n",
       "      <th>...</th>\n",
       "      <th>texture_worst</th>\n",
       "      <th>perimeter_worst</th>\n",
       "      <th>area_worst</th>\n",
       "      <th>smoothness_worst</th>\n",
       "      <th>compactness_worst</th>\n",
       "      <th>concavity_worst</th>\n",
       "      <th>concave points_worst</th>\n",
       "      <th>symmetry_worst</th>\n",
       "      <th>fractal_dimension_worst</th>\n",
       "      <th>Unnamed: 32</th>\n",
       "    </tr>\n",
       "  </thead>\n",
       "  <tbody>\n",
       "    <tr>\n",
       "      <th>0</th>\n",
       "      <td>842302</td>\n",
       "      <td>M</td>\n",
       "      <td>1.097064</td>\n",
       "      <td>-2.073335</td>\n",
       "      <td>1.269934</td>\n",
       "      <td>0.984375</td>\n",
       "      <td>1.568466</td>\n",
       "      <td>3.283515</td>\n",
       "      <td>2.652874</td>\n",
       "      <td>2.532475</td>\n",
       "      <td>...</td>\n",
       "      <td>-1.359293</td>\n",
       "      <td>2.303601</td>\n",
       "      <td>2.001237</td>\n",
       "      <td>1.307686</td>\n",
       "      <td>2.616665</td>\n",
       "      <td>2.109526</td>\n",
       "      <td>2.296076</td>\n",
       "      <td>2.750622</td>\n",
       "      <td>1.937015</td>\n",
       "      <td>NaN</td>\n",
       "    </tr>\n",
       "    <tr>\n",
       "      <th>1</th>\n",
       "      <td>842517</td>\n",
       "      <td>M</td>\n",
       "      <td>1.829821</td>\n",
       "      <td>-0.353632</td>\n",
       "      <td>1.685955</td>\n",
       "      <td>1.908708</td>\n",
       "      <td>-0.826962</td>\n",
       "      <td>-0.487072</td>\n",
       "      <td>-0.023846</td>\n",
       "      <td>0.548144</td>\n",
       "      <td>...</td>\n",
       "      <td>-0.369203</td>\n",
       "      <td>1.535126</td>\n",
       "      <td>1.890489</td>\n",
       "      <td>-0.375612</td>\n",
       "      <td>-0.430444</td>\n",
       "      <td>-0.146749</td>\n",
       "      <td>1.087084</td>\n",
       "      <td>-0.243890</td>\n",
       "      <td>0.281190</td>\n",
       "      <td>NaN</td>\n",
       "    </tr>\n",
       "    <tr>\n",
       "      <th>2</th>\n",
       "      <td>84300903</td>\n",
       "      <td>M</td>\n",
       "      <td>1.579888</td>\n",
       "      <td>0.456187</td>\n",
       "      <td>1.566503</td>\n",
       "      <td>1.558884</td>\n",
       "      <td>0.942210</td>\n",
       "      <td>1.052926</td>\n",
       "      <td>1.363478</td>\n",
       "      <td>2.037231</td>\n",
       "      <td>...</td>\n",
       "      <td>-0.023974</td>\n",
       "      <td>1.347475</td>\n",
       "      <td>1.456285</td>\n",
       "      <td>0.527407</td>\n",
       "      <td>1.082932</td>\n",
       "      <td>0.854974</td>\n",
       "      <td>1.955000</td>\n",
       "      <td>1.152255</td>\n",
       "      <td>0.201391</td>\n",
       "      <td>NaN</td>\n",
       "    </tr>\n",
       "    <tr>\n",
       "      <th>3</th>\n",
       "      <td>84348301</td>\n",
       "      <td>M</td>\n",
       "      <td>-0.768909</td>\n",
       "      <td>0.253732</td>\n",
       "      <td>-0.592687</td>\n",
       "      <td>-0.764464</td>\n",
       "      <td>3.283553</td>\n",
       "      <td>3.402909</td>\n",
       "      <td>1.915897</td>\n",
       "      <td>1.451707</td>\n",
       "      <td>...</td>\n",
       "      <td>0.133984</td>\n",
       "      <td>-0.249939</td>\n",
       "      <td>-0.550021</td>\n",
       "      <td>3.394275</td>\n",
       "      <td>3.893397</td>\n",
       "      <td>1.989588</td>\n",
       "      <td>2.175786</td>\n",
       "      <td>6.046041</td>\n",
       "      <td>4.935010</td>\n",
       "      <td>NaN</td>\n",
       "    </tr>\n",
       "    <tr>\n",
       "      <th>4</th>\n",
       "      <td>84358402</td>\n",
       "      <td>M</td>\n",
       "      <td>1.750297</td>\n",
       "      <td>-1.151816</td>\n",
       "      <td>1.776573</td>\n",
       "      <td>1.826229</td>\n",
       "      <td>0.280372</td>\n",
       "      <td>0.539340</td>\n",
       "      <td>1.371011</td>\n",
       "      <td>1.428493</td>\n",
       "      <td>...</td>\n",
       "      <td>-1.466770</td>\n",
       "      <td>1.338539</td>\n",
       "      <td>1.220724</td>\n",
       "      <td>0.220556</td>\n",
       "      <td>-0.313395</td>\n",
       "      <td>0.613179</td>\n",
       "      <td>0.729259</td>\n",
       "      <td>-0.868353</td>\n",
       "      <td>-0.397100</td>\n",
       "      <td>NaN</td>\n",
       "    </tr>\n",
       "  </tbody>\n",
       "</table>\n",
       "<p>5 rows × 33 columns</p>\n",
       "</div>"
      ],
      "text/plain": [
       "         id diagnosis  radius_mean  texture_mean  perimeter_mean  area_mean  \\\n",
       "0    842302         M     1.097064     -2.073335        1.269934   0.984375   \n",
       "1    842517         M     1.829821     -0.353632        1.685955   1.908708   \n",
       "2  84300903         M     1.579888      0.456187        1.566503   1.558884   \n",
       "3  84348301         M    -0.768909      0.253732       -0.592687  -0.764464   \n",
       "4  84358402         M     1.750297     -1.151816        1.776573   1.826229   \n",
       "\n",
       "   smoothness_mean  compactness_mean  concavity_mean  concave points_mean  \\\n",
       "0         1.568466          3.283515        2.652874             2.532475   \n",
       "1        -0.826962         -0.487072       -0.023846             0.548144   \n",
       "2         0.942210          1.052926        1.363478             2.037231   \n",
       "3         3.283553          3.402909        1.915897             1.451707   \n",
       "4         0.280372          0.539340        1.371011             1.428493   \n",
       "\n",
       "   ...  texture_worst  perimeter_worst  area_worst  smoothness_worst  \\\n",
       "0  ...      -1.359293         2.303601    2.001237          1.307686   \n",
       "1  ...      -0.369203         1.535126    1.890489         -0.375612   \n",
       "2  ...      -0.023974         1.347475    1.456285          0.527407   \n",
       "3  ...       0.133984        -0.249939   -0.550021          3.394275   \n",
       "4  ...      -1.466770         1.338539    1.220724          0.220556   \n",
       "\n",
       "   compactness_worst  concavity_worst  concave points_worst  symmetry_worst  \\\n",
       "0           2.616665         2.109526              2.296076        2.750622   \n",
       "1          -0.430444        -0.146749              1.087084       -0.243890   \n",
       "2           1.082932         0.854974              1.955000        1.152255   \n",
       "3           3.893397         1.989588              2.175786        6.046041   \n",
       "4          -0.313395         0.613179              0.729259       -0.868353   \n",
       "\n",
       "   fractal_dimension_worst  Unnamed: 32  \n",
       "0                 1.937015          NaN  \n",
       "1                 0.281190          NaN  \n",
       "2                 0.201391          NaN  \n",
       "3                 4.935010          NaN  \n",
       "4                -0.397100          NaN  \n",
       "\n",
       "[5 rows x 33 columns]"
      ]
     },
     "execution_count": 4,
     "metadata": {},
     "output_type": "execute_result"
    }
   ],
   "source": [
    "from sklearn.preprocessing import StandardScaler\n",
    "X = dataset.iloc[:,2:32].values # We do not take the class label\n",
    "dataset.iloc[:,2:32] = StandardScaler().fit_transform(X) # normalizing the features\n",
    "\n",
    "dataset.head(5)"
   ]
  },
  {
   "cell_type": "markdown",
   "metadata": {
    "heading_collapsed": true
   },
   "source": [
    "# Principal Components Analysis\n",
    "\n",
    "*Why PCA?*\n",
    "\n",
    "We will try to reduce the dimensionality of the dataset by applying PCA. There are thirty variables that can be combined using PCA into different linear combinations that each explain a part of the variance of the model.\n",
    "\n",
    "If we take a look to the correlation matrix, we can see that there are large correlations between some variables (i.e., we expected that behavior since we have 3 different measures for the same phenomena). Since PCA relies in these correlations, it is reasonable to expect that it is going to be able to find a better representation of the data."
   ]
  },
  {
   "cell_type": "code",
   "execution_count": 5,
   "metadata": {
    "hidden": true
   },
   "outputs": [
    {
     "data": {
      "image/png": "[encoded data removed]",
      "text/plain": [
       "<Figure size 1368x1080 with 2 Axes>"
      ]
     },
     "metadata": {
      "needs_background": "light"
     },
     "output_type": "display_data"
    }
   ],
   "source": [
    "f = plt.figure(figsize=(19, 15))\n",
    "plt.matshow(dataset.iloc[:,2:32].corr(), fignum=f.number, cmap=plt.cm.coolwarm)\n",
    "plt.xticks(range(dataset.iloc[:,2:32].shape[1]), dataset.iloc[:,2:32].columns, fontsize=14, rotation=90)\n",
    "plt.yticks(range(dataset.iloc[:,2:32].shape[1]), dataset.iloc[:,2:32].columns, fontsize=14)\n",
    "cb = plt.colorbar()\n",
    "cb.ax.tick_params(labelsize=14)"
   ]
  },
  {
   "cell_type": "markdown",
   "metadata": {
    "hidden": true
   },
   "source": [
    "As the correlation matrix shows some correlations between the features, let's compute the Principal Components of the dataset "
   ]
  },
  {
   "cell_type": "code",
   "execution_count": 6,
   "metadata": {
    "hidden": true
   },
   "outputs": [
    {
     "data": {
      "text/html": [
       "<div>\n",
       "<style scoped>\n",
       "    .dataframe tbody tr th:only-of-type {\n",
       "        vertical-align: middle;\n",
       "    }\n",
       "\n",
       "    .dataframe tbody tr th {\n",
       "        vertical-align: top;\n",
       "    }\n",
       "\n",
       "    .dataframe thead th {\n",
       "        text-align: right;\n",
       "    }\n",
       "</style>\n",
       "<table border=\"1\" class=\"dataframe\">\n",
       "  <thead>\n",
       "    <tr style=\"text-align: right;\">\n",
       "      <th></th>\n",
       "      <th>0</th>\n",
       "      <th>1</th>\n",
       "      <th>2</th>\n",
       "      <th>3</th>\n",
       "      <th>4</th>\n",
       "      <th>5</th>\n",
       "      <th>6</th>\n",
       "      <th>7</th>\n",
       "      <th>8</th>\n",
       "      <th>9</th>\n",
       "      <th>...</th>\n",
       "      <th>20</th>\n",
       "      <th>21</th>\n",
       "      <th>22</th>\n",
       "      <th>23</th>\n",
       "      <th>24</th>\n",
       "      <th>25</th>\n",
       "      <th>26</th>\n",
       "      <th>27</th>\n",
       "      <th>28</th>\n",
       "      <th>29</th>\n",
       "    </tr>\n",
       "  </thead>\n",
       "  <tbody>\n",
       "    <tr>\n",
       "      <th>count</th>\n",
       "      <td>5.690000e+02</td>\n",
       "      <td>5.690000e+02</td>\n",
       "      <td>5.690000e+02</td>\n",
       "      <td>569.000000</td>\n",
       "      <td>5.690000e+02</td>\n",
       "      <td>5.690000e+02</td>\n",
       "      <td>5.690000e+02</td>\n",
       "      <td>5.690000e+02</td>\n",
       "      <td>5.690000e+02</td>\n",
       "      <td>5.690000e+02</td>\n",
       "      <td>...</td>\n",
       "      <td>5.690000e+02</td>\n",
       "      <td>5.690000e+02</td>\n",
       "      <td>5.690000e+02</td>\n",
       "      <td>5.690000e+02</td>\n",
       "      <td>5.690000e+02</td>\n",
       "      <td>5.690000e+02</td>\n",
       "      <td>5.690000e+02</td>\n",
       "      <td>5.690000e+02</td>\n",
       "      <td>5.690000e+02</td>\n",
       "      <td>5.690000e+02</td>\n",
       "    </tr>\n",
       "    <tr>\n",
       "      <th>mean</th>\n",
       "      <td>-4.995028e-17</td>\n",
       "      <td>-4.995028e-17</td>\n",
       "      <td>1.248757e-17</td>\n",
       "      <td>0.000000</td>\n",
       "      <td>3.746271e-17</td>\n",
       "      <td>2.185325e-17</td>\n",
       "      <td>1.248757e-17</td>\n",
       "      <td>9.365678e-18</td>\n",
       "      <td>6.243785e-18</td>\n",
       "      <td>-4.058460e-17</td>\n",
       "      <td>...</td>\n",
       "      <td>-5.268194e-18</td>\n",
       "      <td>5.307217e-17</td>\n",
       "      <td>-8.390086e-18</td>\n",
       "      <td>-8.194968e-18</td>\n",
       "      <td>1.931671e-17</td>\n",
       "      <td>-2.243860e-17</td>\n",
       "      <td>5.463312e-18</td>\n",
       "      <td>1.951183e-18</td>\n",
       "      <td>2.536538e-18</td>\n",
       "      <td>-1.053639e-17</td>\n",
       "    </tr>\n",
       "    <tr>\n",
       "      <th>std</th>\n",
       "      <td>3.647601e+00</td>\n",
       "      <td>2.387755e+00</td>\n",
       "      <td>1.680152e+00</td>\n",
       "      <td>1.408591</td>\n",
       "      <td>1.285159e+00</td>\n",
       "      <td>1.099765e+00</td>\n",
       "      <td>8.224408e-01</td>\n",
       "      <td>6.909821e-01</td>\n",
       "      <td>6.462420e-01</td>\n",
       "      <td>5.927148e-01</td>\n",
       "      <td>...</td>\n",
       "      <td>1.732791e-01</td>\n",
       "      <td>1.657942e-01</td>\n",
       "      <td>1.561528e-01</td>\n",
       "      <td>1.344872e-01</td>\n",
       "      <td>1.245332e-01</td>\n",
       "      <td>9.050987e-02</td>\n",
       "      <td>8.314212e-02</td>\n",
       "      <td>3.990158e-02</td>\n",
       "      <td>2.738834e-02</td>\n",
       "      <td>1.154465e-02</td>\n",
       "    </tr>\n",
       "    <tr>\n",
       "      <th>min</th>\n",
       "      <td>-5.565736e+00</td>\n",
       "      <td>-7.775853e+00</td>\n",
       "      <td>-4.880361e+00</td>\n",
       "      <td>-5.133988</td>\n",
       "      <td>-4.789656e+00</td>\n",
       "      <td>-4.217768e+00</td>\n",
       "      <td>-4.084684e+00</td>\n",
       "      <td>-3.953163e+00</td>\n",
       "      <td>-2.969339e+00</td>\n",
       "      <td>-2.738158e+00</td>\n",
       "      <td>...</td>\n",
       "      <td>-7.372956e-01</td>\n",
       "      <td>-7.167165e-01</td>\n",
       "      <td>-7.840921e-01</td>\n",
       "      <td>-5.699032e-01</td>\n",
       "      <td>-4.805427e-01</td>\n",
       "      <td>-3.285463e-01</td>\n",
       "      <td>-3.022430e-01</td>\n",
       "      <td>-1.853722e-01</td>\n",
       "      <td>-1.605791e-01</td>\n",
       "      <td>-4.716921e-02</td>\n",
       "    </tr>\n",
       "    <tr>\n",
       "      <th>25%</th>\n",
       "      <td>-2.757430e+00</td>\n",
       "      <td>-1.499825e+00</td>\n",
       "      <td>-1.017071e+00</td>\n",
       "      <td>-0.786312</td>\n",
       "      <td>-6.160920e-01</td>\n",
       "      <td>-7.280625e-01</td>\n",
       "      <td>-4.478907e-01</td>\n",
       "      <td>-3.729315e-01</td>\n",
       "      <td>-3.237087e-01</td>\n",
       "      <td>-3.661173e-01</td>\n",
       "      <td>...</td>\n",
       "      <td>-9.571959e-02</td>\n",
       "      <td>-9.106684e-02</td>\n",
       "      <td>-7.920788e-02</td>\n",
       "      <td>-6.520987e-02</td>\n",
       "      <td>-6.977495e-02</td>\n",
       "      <td>-5.242291e-02</td>\n",
       "      <td>-4.429180e-02</td>\n",
       "      <td>-1.756984e-02</td>\n",
       "      <td>-1.189609e-02</td>\n",
       "      <td>-5.212735e-03</td>\n",
       "    </tr>\n",
       "    <tr>\n",
       "      <th>50%</th>\n",
       "      <td>-1.173831e+00</td>\n",
       "      <td>-1.959558e-01</td>\n",
       "      <td>-1.557020e-01</td>\n",
       "      <td>0.115566</td>\n",
       "      <td>-2.898355e-02</td>\n",
       "      <td>-7.241380e-02</td>\n",
       "      <td>-1.817796e-02</td>\n",
       "      <td>1.363062e-02</td>\n",
       "      <td>1.254538e-02</td>\n",
       "      <td>2.339794e-03</td>\n",
       "      <td>...</td>\n",
       "      <td>-5.610704e-04</td>\n",
       "      <td>-1.108503e-02</td>\n",
       "      <td>3.659328e-03</td>\n",
       "      <td>-5.514145e-03</td>\n",
       "      <td>-4.268623e-03</td>\n",
       "      <td>-5.092584e-03</td>\n",
       "      <td>-2.694689e-03</td>\n",
       "      <td>8.908398e-04</td>\n",
       "      <td>1.868918e-03</td>\n",
       "      <td>2.127411e-04</td>\n",
       "    </tr>\n",
       "    <tr>\n",
       "      <th>75%</th>\n",
       "      <td>2.508766e+00</td>\n",
       "      <td>1.228297e+00</td>\n",
       "      <td>8.568268e-01</td>\n",
       "      <td>0.969416</td>\n",
       "      <td>6.108408e-01</td>\n",
       "      <td>6.169900e-01</td>\n",
       "      <td>4.540371e-01</td>\n",
       "      <td>3.497728e-01</td>\n",
       "      <td>3.625405e-01</td>\n",
       "      <td>3.262763e-01</td>\n",
       "      <td>...</td>\n",
       "      <td>8.518698e-02</td>\n",
       "      <td>8.016184e-02</td>\n",
       "      <td>8.352373e-02</td>\n",
       "      <td>6.757816e-02</td>\n",
       "      <td>6.658501e-02</td>\n",
       "      <td>4.539288e-02</td>\n",
       "      <td>4.285852e-02</td>\n",
       "      <td>1.674075e-02</td>\n",
       "      <td>1.289622e-02</td>\n",
       "      <td>5.437237e-03</td>\n",
       "    </tr>\n",
       "    <tr>\n",
       "      <th>max</th>\n",
       "      <td>1.631923e+01</td>\n",
       "      <td>1.257319e+01</td>\n",
       "      <td>1.011242e+01</td>\n",
       "      <td>5.194270</td>\n",
       "      <td>7.490434e+00</td>\n",
       "      <td>5.134228e+00</td>\n",
       "      <td>5.417219e+00</td>\n",
       "      <td>4.362306e+00</td>\n",
       "      <td>3.784119e+00</td>\n",
       "      <td>3.192639e+00</td>\n",
       "      <td>...</td>\n",
       "      <td>1.120090e+00</td>\n",
       "      <td>1.143462e+00</td>\n",
       "      <td>8.309977e-01</td>\n",
       "      <td>6.407744e-01</td>\n",
       "      <td>7.746280e-01</td>\n",
       "      <td>5.079539e-01</td>\n",
       "      <td>3.878807e-01</td>\n",
       "      <td>2.191405e-01</td>\n",
       "      <td>1.843861e-01</td>\n",
       "      <td>7.339198e-02</td>\n",
       "    </tr>\n",
       "  </tbody>\n",
       "</table>\n",
       "<p>8 rows × 30 columns</p>\n",
       "</div>"
      ],
      "text/plain": [
       "                 0             1             2           3             4   \\\n",
       "count  5.690000e+02  5.690000e+02  5.690000e+02  569.000000  5.690000e+02   \n",
       "mean  -4.995028e-17 -4.995028e-17  1.248757e-17    0.000000  3.746271e-17   \n",
       "std    3.647601e+00  2.387755e+00  1.680152e+00    1.408591  1.285159e+00   \n",
       "min   -5.565736e+00 -7.775853e+00 -4.880361e+00   -5.133988 -4.789656e+00   \n",
       "25%   -2.757430e+00 -1.499825e+00 -1.017071e+00   -0.786312 -6.160920e-01   \n",
       "50%   -1.173831e+00 -1.959558e-01 -1.557020e-01    0.115566 -2.898355e-02   \n",
       "75%    2.508766e+00  1.228297e+00  8.568268e-01    0.969416  6.108408e-01   \n",
       "max    1.631923e+01  1.257319e+01  1.011242e+01    5.194270  7.490434e+00   \n",
       "\n",
       "                 5             6             7             8             9   \\\n",
       "count  5.690000e+02  5.690000e+02  5.690000e+02  5.690000e+02  5.690000e+02   \n",
       "mean   2.185325e-17  1.248757e-17  9.365678e-18  6.243785e-18 -4.058460e-17   \n",
       "std    1.099765e+00  8.224408e-01  6.909821e-01  6.462420e-01  5.927148e-01   \n",
       "min   -4.217768e+00 -4.084684e+00 -3.953163e+00 -2.969339e+00 -2.738158e+00   \n",
       "25%   -7.280625e-01 -4.478907e-01 -3.729315e-01 -3.237087e-01 -3.661173e-01   \n",
       "50%   -7.241380e-02 -1.817796e-02  1.363062e-02  1.254538e-02  2.339794e-03   \n",
       "75%    6.169900e-01  4.540371e-01  3.497728e-01  3.625405e-01  3.262763e-01   \n",
       "max    5.134228e+00  5.417219e+00  4.362306e+00  3.784119e+00  3.192639e+00   \n",
       "\n",
       "       ...            20            21            22            23  \\\n",
       "count  ...  5.690000e+02  5.690000e+02  5.690000e+02  5.690000e+02   \n",
       "mean   ... -5.268194e-18  5.307217e-17 -8.390086e-18 -8.194968e-18   \n",
       "std    ...  1.732791e-01  1.657942e-01  1.561528e-01  1.344872e-01   \n",
       "min    ... -7.372956e-01 -7.167165e-01 -7.840921e-01 -5.699032e-01   \n",
       "25%    ... -9.571959e-02 -9.106684e-02 -7.920788e-02 -6.520987e-02   \n",
       "50%    ... -5.610704e-04 -1.108503e-02  3.659328e-03 -5.514145e-03   \n",
       "75%    ...  8.518698e-02  8.016184e-02  8.352373e-02  6.757816e-02   \n",
       "max    ...  1.120090e+00  1.143462e+00  8.309977e-01  6.407744e-01   \n",
       "\n",
       "                 24            25            26            27            28  \\\n",
       "count  5.690000e+02  5.690000e+02  5.690000e+02  5.690000e+02  5.690000e+02   \n",
       "mean   1.931671e-17 -2.243860e-17  5.463312e-18  1.951183e-18  2.536538e-18   \n",
       "std    1.245332e-01  9.050987e-02  8.314212e-02  3.990158e-02  2.738834e-02   \n",
       "min   -4.805427e-01 -3.285463e-01 -3.022430e-01 -1.853722e-01 -1.605791e-01   \n",
       "25%   -6.977495e-02 -5.242291e-02 -4.429180e-02 -1.756984e-02 -1.189609e-02   \n",
       "50%   -4.268623e-03 -5.092584e-03 -2.694689e-03  8.908398e-04  1.868918e-03   \n",
       "75%    6.658501e-02  4.539288e-02  4.285852e-02  1.674075e-02  1.289622e-02   \n",
       "max    7.746280e-01  5.079539e-01  3.878807e-01  2.191405e-01  1.843861e-01   \n",
       "\n",
       "                 29  \n",
       "count  5.690000e+02  \n",
       "mean  -1.053639e-17  \n",
       "std    1.154465e-02  \n",
       "min   -4.716921e-02  \n",
       "25%   -5.212735e-03  \n",
       "50%    2.127411e-04  \n",
       "75%    5.437237e-03  \n",
       "max    7.339198e-02  \n",
       "\n",
       "[8 rows x 30 columns]"
      ]
     },
     "execution_count": 6,
     "metadata": {},
     "output_type": "execute_result"
    }
   ],
   "source": [
    "from sklearn.decomposition import PCA\n",
    "\n",
    "pca_breast = PCA()\n",
    "\n",
    "principalComponents_breast = pca_breast.fit_transform(dataset.iloc[:,2:32])\n",
    "\n",
    "pd.DataFrame(principalComponents_breast).describe()"
   ]
  },
  {
   "cell_type": "code",
   "execution_count": 7,
   "metadata": {
    "hidden": true,
    "scrolled": true
   },
   "outputs": [
    {
     "data": {
      "text/html": [
       "<div>\n",
       "<style scoped>\n",
       "    .dataframe tbody tr th:only-of-type {\n",
       "        vertical-align: middle;\n",
       "    }\n",
       "\n",
       "    .dataframe tbody tr th {\n",
       "        vertical-align: top;\n",
       "    }\n",
       "\n",
       "    .dataframe thead th {\n",
       "        text-align: right;\n",
       "    }\n",
       "</style>\n",
       "<table border=\"1\" class=\"dataframe\">\n",
       "  <thead>\n",
       "    <tr style=\"text-align: right;\">\n",
       "      <th></th>\n",
       "      <th>id</th>\n",
       "      <th>diagnosis</th>\n",
       "      <th>radius_mean</th>\n",
       "      <th>texture_mean</th>\n",
       "      <th>perimeter_mean</th>\n",
       "      <th>area_mean</th>\n",
       "      <th>smoothness_mean</th>\n",
       "      <th>compactness_mean</th>\n",
       "      <th>concavity_mean</th>\n",
       "      <th>concave points_mean</th>\n",
       "      <th>...</th>\n",
       "      <th>texture_worst</th>\n",
       "      <th>perimeter_worst</th>\n",
       "      <th>area_worst</th>\n",
       "      <th>smoothness_worst</th>\n",
       "      <th>compactness_worst</th>\n",
       "      <th>concavity_worst</th>\n",
       "      <th>concave points_worst</th>\n",
       "      <th>symmetry_worst</th>\n",
       "      <th>fractal_dimension_worst</th>\n",
       "      <th>Unnamed: 32</th>\n",
       "    </tr>\n",
       "  </thead>\n",
       "  <tbody>\n",
       "    <tr>\n",
       "      <th>0</th>\n",
       "      <td>842302</td>\n",
       "      <td>M</td>\n",
       "      <td>1.097064</td>\n",
       "      <td>-2.073335</td>\n",
       "      <td>1.269934</td>\n",
       "      <td>0.984375</td>\n",
       "      <td>1.568466</td>\n",
       "      <td>3.283515</td>\n",
       "      <td>2.652874</td>\n",
       "      <td>2.532475</td>\n",
       "      <td>...</td>\n",
       "      <td>-1.359293</td>\n",
       "      <td>2.303601</td>\n",
       "      <td>2.001237</td>\n",
       "      <td>1.307686</td>\n",
       "      <td>2.616665</td>\n",
       "      <td>2.109526</td>\n",
       "      <td>2.296076</td>\n",
       "      <td>2.750622</td>\n",
       "      <td>1.937015</td>\n",
       "      <td>NaN</td>\n",
       "    </tr>\n",
       "    <tr>\n",
       "      <th>1</th>\n",
       "      <td>842517</td>\n",
       "      <td>M</td>\n",
       "      <td>1.829821</td>\n",
       "      <td>-0.353632</td>\n",
       "      <td>1.685955</td>\n",
       "      <td>1.908708</td>\n",
       "      <td>-0.826962</td>\n",
       "      <td>-0.487072</td>\n",
       "      <td>-0.023846</td>\n",
       "      <td>0.548144</td>\n",
       "      <td>...</td>\n",
       "      <td>-0.369203</td>\n",
       "      <td>1.535126</td>\n",
       "      <td>1.890489</td>\n",
       "      <td>-0.375612</td>\n",
       "      <td>-0.430444</td>\n",
       "      <td>-0.146749</td>\n",
       "      <td>1.087084</td>\n",
       "      <td>-0.243890</td>\n",
       "      <td>0.281190</td>\n",
       "      <td>NaN</td>\n",
       "    </tr>\n",
       "    <tr>\n",
       "      <th>2</th>\n",
       "      <td>84300903</td>\n",
       "      <td>M</td>\n",
       "      <td>1.579888</td>\n",
       "      <td>0.456187</td>\n",
       "      <td>1.566503</td>\n",
       "      <td>1.558884</td>\n",
       "      <td>0.942210</td>\n",
       "      <td>1.052926</td>\n",
       "      <td>1.363478</td>\n",
       "      <td>2.037231</td>\n",
       "      <td>...</td>\n",
       "      <td>-0.023974</td>\n",
       "      <td>1.347475</td>\n",
       "      <td>1.456285</td>\n",
       "      <td>0.527407</td>\n",
       "      <td>1.082932</td>\n",
       "      <td>0.854974</td>\n",
       "      <td>1.955000</td>\n",
       "      <td>1.152255</td>\n",
       "      <td>0.201391</td>\n",
       "      <td>NaN</td>\n",
       "    </tr>\n",
       "    <tr>\n",
       "      <th>3</th>\n",
       "      <td>84348301</td>\n",
       "      <td>M</td>\n",
       "      <td>-0.768909</td>\n",
       "      <td>0.253732</td>\n",
       "      <td>-0.592687</td>\n",
       "      <td>-0.764464</td>\n",
       "      <td>3.283553</td>\n",
       "      <td>3.402909</td>\n",
       "      <td>1.915897</td>\n",
       "      <td>1.451707</td>\n",
       "      <td>...</td>\n",
       "      <td>0.133984</td>\n",
       "      <td>-0.249939</td>\n",
       "      <td>-0.550021</td>\n",
       "      <td>3.394275</td>\n",
       "      <td>3.893397</td>\n",
       "      <td>1.989588</td>\n",
       "      <td>2.175786</td>\n",
       "      <td>6.046041</td>\n",
       "      <td>4.935010</td>\n",
       "      <td>NaN</td>\n",
       "    </tr>\n",
       "    <tr>\n",
       "      <th>4</th>\n",
       "      <td>84358402</td>\n",
       "      <td>M</td>\n",
       "      <td>1.750297</td>\n",
       "      <td>-1.151816</td>\n",
       "      <td>1.776573</td>\n",
       "      <td>1.826229</td>\n",
       "      <td>0.280372</td>\n",
       "      <td>0.539340</td>\n",
       "      <td>1.371011</td>\n",
       "      <td>1.428493</td>\n",
       "      <td>...</td>\n",
       "      <td>-1.466770</td>\n",
       "      <td>1.338539</td>\n",
       "      <td>1.220724</td>\n",
       "      <td>0.220556</td>\n",
       "      <td>-0.313395</td>\n",
       "      <td>0.613179</td>\n",
       "      <td>0.729259</td>\n",
       "      <td>-0.868353</td>\n",
       "      <td>-0.397100</td>\n",
       "      <td>NaN</td>\n",
       "    </tr>\n",
       "  </tbody>\n",
       "</table>\n",
       "<p>5 rows × 33 columns</p>\n",
       "</div>"
      ],
      "text/plain": [
       "         id diagnosis  radius_mean  texture_mean  perimeter_mean  area_mean  \\\n",
       "0    842302         M     1.097064     -2.073335        1.269934   0.984375   \n",
       "1    842517         M     1.829821     -0.353632        1.685955   1.908708   \n",
       "2  84300903         M     1.579888      0.456187        1.566503   1.558884   \n",
       "3  84348301         M    -0.768909      0.253732       -0.592687  -0.764464   \n",
       "4  84358402         M     1.750297     -1.151816        1.776573   1.826229   \n",
       "\n",
       "   smoothness_mean  compactness_mean  concavity_mean  concave points_mean  \\\n",
       "0         1.568466          3.283515        2.652874             2.532475   \n",
       "1        -0.826962         -0.487072       -0.023846             0.548144   \n",
       "2         0.942210          1.052926        1.363478             2.037231   \n",
       "3         3.283553          3.402909        1.915897             1.451707   \n",
       "4         0.280372          0.539340        1.371011             1.428493   \n",
       "\n",
       "   ...  texture_worst  perimeter_worst  area_worst  smoothness_worst  \\\n",
       "0  ...      -1.359293         2.303601    2.001237          1.307686   \n",
       "1  ...      -0.369203         1.535126    1.890489         -0.375612   \n",
       "2  ...      -0.023974         1.347475    1.456285          0.527407   \n",
       "3  ...       0.133984        -0.249939   -0.550021          3.394275   \n",
       "4  ...      -1.466770         1.338539    1.220724          0.220556   \n",
       "\n",
       "   compactness_worst  concavity_worst  concave points_worst  symmetry_worst  \\\n",
       "0           2.616665         2.109526              2.296076        2.750622   \n",
       "1          -0.430444        -0.146749              1.087084       -0.243890   \n",
       "2           1.082932         0.854974              1.955000        1.152255   \n",
       "3           3.893397         1.989588              2.175786        6.046041   \n",
       "4          -0.313395         0.613179              0.729259       -0.868353   \n",
       "\n",
       "   fractal_dimension_worst  Unnamed: 32  \n",
       "0                 1.937015          NaN  \n",
       "1                 0.281190          NaN  \n",
       "2                 0.201391          NaN  \n",
       "3                 4.935010          NaN  \n",
       "4                -0.397100          NaN  \n",
       "\n",
       "[5 rows x 33 columns]"
      ]
     },
     "execution_count": 7,
     "metadata": {},
     "output_type": "execute_result"
    }
   ],
   "source": [
    "dataset.head()"
   ]
  },
  {
   "cell_type": "markdown",
   "metadata": {
    "hidden": true
   },
   "source": [
    "Let's see how the target variable is scattered according to the principal components 1 and 2:"
   ]
  },
  {
   "cell_type": "code",
   "execution_count": 8,
   "metadata": {
    "hidden": true
   },
   "outputs": [
    {
     "data": {
      "image/png": "[encoded data removed]",
      "text/plain": [
       "<Figure size 720x720 with 1 Axes>"
      ]
     },
     "metadata": {
      "needs_background": "light"
     },
     "output_type": "display_data"
    }
   ],
   "source": [
    "plt.figure(figsize=(10,10))\n",
    "plt.xticks(fontsize=12)\n",
    "plt.yticks(fontsize=14)\n",
    "plt.xlabel('Principal Component - 1',fontsize=20)\n",
    "plt.ylabel('Principal Component - 2',fontsize=20)\n",
    "plt.title(\"Principal Component Analysis of Breast Cancer Dataset\",fontsize=20)\n",
    "targets = ['B', 'M']\n",
    "colors = ['r', 'g']\n",
    "for target, color in zip(targets,colors):\n",
    "    indicesToKeep = dataset['diagnosis'] == target\n",
    "    plt.scatter(pd.DataFrame(principalComponents_breast).loc[indicesToKeep, 0]\n",
    "               , pd.DataFrame(principalComponents_breast).loc[indicesToKeep, 1], c = color, s = 50)\n",
    "\n",
    "plt.legend(targets,prop={'size': 15});\n"
   ]
  },
  {
   "cell_type": "markdown",
   "metadata": {
    "hidden": true
   },
   "source": [
    "There is a clear separation of diagnosis (M or B) that is evident in the PC1 vs PC2 plot."
   ]
  },
  {
   "cell_type": "markdown",
   "metadata": {
    "hidden": true
   },
   "source": [
    "Once you have the principal components, you can find the explained_variance_ratio. It will provide you with the amount of information or variance each principal component holds after projecting the data to a lower dimensional subspace."
   ]
  },
  {
   "cell_type": "code",
   "execution_count": 9,
   "metadata": {
    "hidden": true
   },
   "outputs": [
    {
     "data": {
      "image/png": "[encoded data removed]",
      "text/plain": [
       "<Figure size 720x720 with 1 Axes>"
      ]
     },
     "metadata": {
      "needs_background": "light"
     },
     "output_type": "display_data"
    }
   ],
   "source": [
    "plt.figure(figsize=(10,10))\n",
    "plt.xticks(fontsize=12)\n",
    "plt.yticks(fontsize=12)\n",
    "plt.title(\"Variance explained for each Principal Component\", fontsize=20)\n",
    "plt.plot(pca_breast.explained_variance_ratio_, 'o-')\n",
    "plt.xlabel(\"Principal Components\", fontsize=16)\n",
    "plt.ylabel(\"% of Variance\", fontsize=16);"
   ]
  },
  {
   "cell_type": "markdown",
   "metadata": {
    "hidden": true
   },
   "source": [
    "Let's see the cumulative variance of the PC to understand how many of them i might need"
   ]
  },
  {
   "cell_type": "code",
   "execution_count": 10,
   "metadata": {
    "hidden": true
   },
   "outputs": [
    {
     "data": {
      "image/png": "[encoded data removed]",
      "text/plain": [
       "<Figure size 720x720 with 1 Axes>"
      ]
     },
     "metadata": {
      "needs_background": "light"
     },
     "output_type": "display_data"
    }
   ],
   "source": [
    "plt.figure(figsize=(10,10))\n",
    "plt.xticks(fontsize=12)\n",
    "plt.yticks(fontsize=12)\n",
    "plt.plot(np.cumsum(pca_breast.explained_variance_ratio_), '-o')\n",
    "plt.xlabel('Number of PCs', fontsize=20)\n",
    "plt.ylabel('Cumulative sum of explained variance' , fontsize=20);"
   ]
  },
  {
   "cell_type": "markdown",
   "metadata": {
    "hidden": true
   },
   "source": [
    "89% of the variation is explained by the first six PC’s. Therefore, for the latter model generation we will use only these six principal components"
   ]
  },
  {
   "cell_type": "markdown",
   "metadata": {
    "heading_collapsed": true,
    "hidden": true
   },
   "source": [
    "## Principal Component Selection\n",
    "\n",
    "Based on the Cumulative Proportion of Variance Explained, decide how many principal components you want to select (i.e., you should choose a small number of PC that can explain most of the variance).\n",
    "\n",
    "Extract the N-principal components (being N the number of coefficients that you have decided). "
   ]
  },
  {
   "cell_type": "code",
   "execution_count": 11,
   "metadata": {
    "hidden": true
   },
   "outputs": [
    {
     "data": {
      "text/html": [
       "<div>\n",
       "<style scoped>\n",
       "    .dataframe tbody tr th:only-of-type {\n",
       "        vertical-align: middle;\n",
       "    }\n",
       "\n",
       "    .dataframe tbody tr th {\n",
       "        vertical-align: top;\n",
       "    }\n",
       "\n",
       "    .dataframe thead th {\n",
       "        text-align: right;\n",
       "    }\n",
       "</style>\n",
       "<table border=\"1\" class=\"dataframe\">\n",
       "  <thead>\n",
       "    <tr style=\"text-align: right;\">\n",
       "      <th></th>\n",
       "      <th>PC1</th>\n",
       "      <th>PC2</th>\n",
       "      <th>PC3</th>\n",
       "      <th>PC4</th>\n",
       "      <th>PC5</th>\n",
       "      <th>PC6</th>\n",
       "      <th>diagnosis</th>\n",
       "    </tr>\n",
       "  </thead>\n",
       "  <tbody>\n",
       "    <tr>\n",
       "      <th>0</th>\n",
       "      <td>9.192837</td>\n",
       "      <td>1.948583</td>\n",
       "      <td>-1.123166</td>\n",
       "      <td>3.633731</td>\n",
       "      <td>-1.195110</td>\n",
       "      <td>1.411424</td>\n",
       "      <td>M</td>\n",
       "    </tr>\n",
       "    <tr>\n",
       "      <th>1</th>\n",
       "      <td>2.387802</td>\n",
       "      <td>-3.768172</td>\n",
       "      <td>-0.529293</td>\n",
       "      <td>1.118264</td>\n",
       "      <td>0.621775</td>\n",
       "      <td>0.028656</td>\n",
       "      <td>M</td>\n",
       "    </tr>\n",
       "    <tr>\n",
       "      <th>2</th>\n",
       "      <td>5.733896</td>\n",
       "      <td>-1.075174</td>\n",
       "      <td>-0.551748</td>\n",
       "      <td>0.912083</td>\n",
       "      <td>-0.177086</td>\n",
       "      <td>0.541452</td>\n",
       "      <td>M</td>\n",
       "    </tr>\n",
       "    <tr>\n",
       "      <th>3</th>\n",
       "      <td>7.122953</td>\n",
       "      <td>10.275589</td>\n",
       "      <td>-3.232790</td>\n",
       "      <td>0.152547</td>\n",
       "      <td>-2.960878</td>\n",
       "      <td>3.053422</td>\n",
       "      <td>M</td>\n",
       "    </tr>\n",
       "    <tr>\n",
       "      <th>4</th>\n",
       "      <td>3.935302</td>\n",
       "      <td>-1.948072</td>\n",
       "      <td>1.389767</td>\n",
       "      <td>2.940639</td>\n",
       "      <td>0.546747</td>\n",
       "      <td>-1.226495</td>\n",
       "      <td>M</td>\n",
       "    </tr>\n",
       "  </tbody>\n",
       "</table>\n",
       "</div>"
      ],
      "text/plain": [
       "        PC1        PC2       PC3       PC4       PC5       PC6 diagnosis\n",
       "0  9.192837   1.948583 -1.123166  3.633731 -1.195110  1.411424         M\n",
       "1  2.387802  -3.768172 -0.529293  1.118264  0.621775  0.028656         M\n",
       "2  5.733896  -1.075174 -0.551748  0.912083 -0.177086  0.541452         M\n",
       "3  7.122953  10.275589 -3.232790  0.152547 -2.960878  3.053422         M\n",
       "4  3.935302  -1.948072  1.389767  2.940639  0.546747 -1.226495         M"
      ]
     },
     "execution_count": 11,
     "metadata": {},
     "output_type": "execute_result"
    }
   ],
   "source": [
    "dataset_pca = pd.concat([pd.DataFrame(principalComponents_breast).iloc[:, 0:6], dataset.diagnosis], axis=1)\n",
    "dataset_pca.columns = [\"PC1\",\"PC2\",\"PC3\",\"PC4\",\"PC5\",\"PC6\",\"diagnosis\"]\n",
    "dataset_pca.head(5)"
   ]
  },
  {
   "cell_type": "markdown",
   "metadata": {
    "hidden": true
   },
   "source": [
    "By means of PCA we have transformed the original dataset with more than 30 dimensions to only six principal components. We will now apply a predictive model based on LDA."
   ]
  },
  {
   "cell_type": "markdown",
   "metadata": {},
   "source": [
    "# Linear Discriminant Analysis (LDA)\n",
    "\n",
    "From the principal component’s scatter plots it is evident that there is some clustering of benign and malignant points. This suggests that we could build a linear discriminant function using these principal components. \n",
    "\n",
    "## Model building and validation\n",
    "\n",
    "Split the dataset into training/test data"
   ]
  },
  {
   "cell_type": "code",
   "execution_count": 12,
   "metadata": {},
   "outputs": [],
   "source": [
    "from sklearn.model_selection import train_test_split\n",
    "\n",
    "X_train, X_test, y_train, y_test = train_test_split(dataset_pca.iloc[:, 0:6], dataset_pca.diagnosis, test_size=0.25, random_state=44)"
   ]
  },
  {
   "cell_type": "markdown",
   "metadata": {},
   "source": [
    "Calculate the linear discriminant function by using the `LinearDiscriminantAnalysis` function of the `sklearn` package: (https://scikit-learn.org/stable/modules/generated/sklearn.discriminant_analysis.LinearDiscriminantAnalysis.html)\n"
   ]
  },
  {
   "cell_type": "code",
   "execution_count": 13,
   "metadata": {},
   "outputs": [
    {
     "name": "stdout",
     "output_type": "stream",
     "text": [
      "Accuracy of the PCA-based LDA classifier = 0.9650\n"
     ]
    },
    {
     "name": "stderr",
     "output_type": "stream",
     "text": [
      "/home/acastellanos/anaconda3/envs/ml2/lib/python3.8/site-packages/sklearn/utils/validation.py:67: FutureWarning: Pass labels=['M' 'B'] as keyword args. From version 0.25 passing these as positional arguments will result in an error\n",
      "  warnings.warn(\"Pass {} as keyword args. From version 0.25 \"\n"
     ]
    },
    {
     "data": {
      "image/png": "[encoded data removed]",
      "text/plain": [
       "<Figure size 432x288 with 2 Axes>"
      ]
     },
     "metadata": {
      "needs_background": "light"
     },
     "output_type": "display_data"
    }
   ],
   "source": [
    "from sklearn.discriminant_analysis import LinearDiscriminantAnalysis\n",
    "from sklearn.metrics import plot_confusion_matrix, accuracy_score\n",
    "\n",
    "lda_clf = LinearDiscriminantAnalysis().fit(X_train,y_train)\n",
    "print(\"Accuracy of the PCA-based LDA classifier = {0:.4f}\".format(accuracy_score(lda_clf.predict(X_test), y_test)))\n",
    "plot_confusion_matrix(lda_clf, X_test, y_test, y_test.unique(), cmap=plt.cm.Blues);"
   ]
  },
  {
   "cell_type": "markdown",
   "metadata": {},
   "source": [
    "We have achieved a great accuracy score! As discussed in class, when you can transform the data so you can create a linear classifier, LDA is an almost perfect classifier"
   ]
  },
  {
   "cell_type": "markdown",
   "metadata": {
    "heading_collapsed": true
   },
   "source": [
    "## Model Comparison\n",
    "\n",
    "Compare the PCA-based model to a model including all the features."
   ]
  },
  {
   "cell_type": "code",
   "execution_count": 14,
   "metadata": {
    "hidden": true
   },
   "outputs": [
    {
     "name": "stdout",
     "output_type": "stream",
     "text": [
      "Accuracy of the full dataset LDA classifier = 0.9510\n"
     ]
    },
    {
     "name": "stderr",
     "output_type": "stream",
     "text": [
      "/home/acastellanos/anaconda3/envs/ml2/lib/python3.8/site-packages/sklearn/utils/validation.py:67: FutureWarning: Pass labels=['B' 'M'] as keyword args. From version 0.25 passing these as positional arguments will result in an error\n",
      "  warnings.warn(\"Pass {} as keyword args. From version 0.25 \"\n"
     ]
    },
    {
     "data": {
      "image/png": "[encoded data removed]",
      "text/plain": [
       "<Figure size 432x288 with 2 Axes>"
      ]
     },
     "metadata": {
      "needs_background": "light"
     },
     "output_type": "display_data"
    }
   ],
   "source": [
    "X_train, X_test, y_train, y_test = train_test_split(StandardScaler().fit_transform(original_dataset.iloc[:, 2:32]), original_dataset.diagnosis, test_size=0.25, random_state=120)\n",
    "lda_clf = LinearDiscriminantAnalysis().fit(X_train,y_train)\n",
    "print(\"Accuracy of the full dataset LDA classifier = {0:.4f}\".format(accuracy_score(lda_clf.predict(X_test), y_test)))\n",
    "plot_confusion_matrix(lda_clf, X_test, y_test, y_test.unique(), cmap=plt.cm.Blues);"
   ]
  },
  {
   "cell_type": "markdown",
   "metadata": {
    "hidden": true
   },
   "source": [
    "The LDA classifier over the PCA-based dataset is slightly better (not by far). But, the most interesting aspect rather than the small difference in performance is the size of the dataset. By applying PCA we have removed the original number of dimensions from 30 to 6 (you can further experiment by selecting a different number of Principal Components). As discussed many times in class, by reducing the dimensionality of the dataset we will reduce the risk of overfitting, as well as the complexity of our algorithm."
   ]
  },
  {
   "cell_type": "markdown",
   "metadata": {
    "heading_collapsed": true
   },
   "source": [
    "# Everything Together\n",
    "\n",
    "Sklearn provides a handy interface to concatenate all the procedures together: `Pipeline` (https://scikit-learn.org/stable/modules/generated/sklearn.pipeline.Pipeline.html)\n",
    "\n",
    "Pipelines allows to set the different pre-processing and classification steps in order. It facilitates the optimization of each one of the related hyperparamters; e.g., the optimal number of Principal Components, the optimal regularization parameter of the algorithm.....\n",
    "\n",
    "In particular, we will use the Pipeline to find the optimal number of Principal Components (i.e., that optimizing the accuracy of the LDA classifier)"
   ]
  },
  {
   "cell_type": "code",
   "execution_count": 15,
   "metadata": {
    "hidden": true
   },
   "outputs": [],
   "source": [
    "from sklearn.pipeline import Pipeline\n",
    "from sklearn.model_selection import GridSearchCV\n",
    "\n",
    "pipeline = Pipeline(steps=[('scaler', StandardScaler()), ('pca', PCA()), ('LDA', LinearDiscriminantAnalysis())]) # Pipeline the entire process: Scale the data -> PCA -> LDA Classifier\n",
    "\n",
    "X_train, X_test, y_train, y_test = train_test_split(original_dataset.iloc[:, 2:32], original_dataset.diagnosis, test_size=0.25, random_state=120)\n",
    "\n",
    "n_components = list(range(1,30)) # We will try different numbers of principal components\n",
    "\n",
    "#Parameters of pipelines can be set using ‘__’ separated parameter names:\n",
    "param_grid = {\"pca__n_components\":n_components}\n",
    "\n",
    "estimator = GridSearchCV(pipeline, param_grid, cv=5) # Create a grid search to try all the possible number of PCs\n",
    "estimator.fit(X_train, y_train);"
   ]
  },
  {
   "cell_type": "code",
   "execution_count": 16,
   "metadata": {
    "hidden": true
   },
   "outputs": [
    {
     "data": {
      "image/png": "[encoded data removed]",
      "text/plain": [
       "<Figure size 720x720 with 1 Axes>"
      ]
     },
     "metadata": {
      "needs_background": "light"
     },
     "output_type": "display_data"
    }
   ],
   "source": [
    "# Get Test Scores Mean and std for each grid search\n",
    "scores_mean = estimator.cv_results_['mean_test_score']\n",
    "scores_mean = np.array(scores_mean)\n",
    "\n",
    "scores_sd = estimator.cv_results_['std_test_score']\n",
    "scores_sd = np.array(scores_sd)\n",
    "\n",
    "# Plot Grid search scores\n",
    "plt.figure(figsize=(10,10))\n",
    "plt.plot(n_components, scores_mean, '-o')\n",
    "\n",
    "plt.title(\"Grid Search Scores\", fontsize=20, fontweight='bold')\n",
    "plt.xlabel(\"Number of Principal Components\", fontsize=16)\n",
    "plt.ylabel('CV Average Score', fontsize=16)\n",
    "plt.grid('on')\n"
   ]
  },
  {
   "cell_type": "markdown",
   "metadata": {
    "hidden": true
   },
   "source": [
    "As can be seen in the graph, the optimal number of PCs to select will be 19, achieving a performance of more than 97% of accuracy."
   ]
  },
  {
   "cell_type": "markdown",
   "metadata": {
    "hidden": true
   },
   "source": [
    "The same idea can be used with any sklearn classifier (e.g., RandomForest). The following code use a Pipeline to apply PCA and create a Random Forest model and optimize the hyperparameters via Cross Validation. \n",
    "More on the hyperparameters of RandomForest at: https://scikit-learn.org/stable/modules/generated/sklearn.ensemble.RandomForestClassifier.html\n"
   ]
  },
  {
   "cell_type": "code",
   "execution_count": null,
   "metadata": {
    "hidden": true
   },
   "outputs": [],
   "source": [
    "from sklearn.ensemble import RandomForestClassifier\n",
    "from sklearn.model_selection import RandomizedSearchCV\n",
    "\n",
    "\n",
    "pipeline = Pipeline(steps=[('scaler', StandardScaler()), ('pca', PCA()), ('rf', RandomForestClassifier())]) # Pipeline the entire process: Scale the data -> PCA -> LDA Classifier\n",
    "\n",
    "X_train, X_test, y_train, y_test = train_test_split(original_dataset.iloc[:, 2:32], original_dataset.diagnosis, test_size=0.25, random_state=120)\n",
    "\n",
    "n_components = list(range(1,30)) # We will try different numbers of principal components\n",
    "\n",
    "#Parameters of pipelines can be set using ‘__’ separated parameter names:\n",
    "param_grid = {\"pca__n_components\":n_components,\n",
    "     'rf__bootstrap': [False, True],\n",
    "     'rf__n_estimators': [50,100, 200],\n",
    "     'rf__max_features': [0.6, 0.7, 0.8, \"auto\"],\n",
    "     'rf__min_samples_leaf': [1, 5, 10]\n",
    "    }\n",
    "\n",
    "estimator = RandomizedSearchCV(pipeline, param_grid, cv=5, n_iter=20, n_jobs=-1) # Create a grid search to try all the possible number of PCs\n",
    "estimator.fit(X_train, y_train)\n",
    "print(\"Randomized Search Finished\")"
   ]
  },
  {
   "cell_type": "markdown",
   "metadata": {
    "hidden": true
   },
   "source": [
    "This is the best configuration found by the randomized search"
   ]
  },
  {
   "cell_type": "code",
   "execution_count": null,
   "metadata": {
    "hidden": true
   },
   "outputs": [],
   "source": [
    "estimator.best_estimator_"
   ]
  },
  {
   "cell_type": "markdown",
   "metadata": {
    "hidden": true
   },
   "source": [
    "And that is the accuracy achieved by the model. As you can see LDA is outperforming RandomForest for this scenario in which we can find a projection of the data which is close to optimal"
   ]
  },
  {
   "cell_type": "code",
   "execution_count": null,
   "metadata": {
    "hidden": true
   },
   "outputs": [],
   "source": [
    "print(\"Accuracy of the model with the optimal hyperparameter configuration = {0:.4f}\".format(estimator.best_score_))"
   ]
  },
  {
   "cell_type": "markdown",
   "metadata": {},
   "source": [
    "# Bonus Track: LDA for Multiclass Classification\n",
    "\n",
    "Let's apply LDA to a more challenging scenario: recognize handwritten digits. This is a now classical example since most of the introductory Deep Learning tutorials use it. However, I will prove you that a simpler LDA classifier is able to do the job. \n",
    "**Examples and plots taken from: https://towardsdatascience.com/linear-discriminant-analysis-explained-f88be6c1e00b**\n",
    "\n"
   ]
  },
  {
   "cell_type": "markdown",
   "metadata": {},
   "source": [
    "sklearn includes the a dataset of [handwritten digits](https://scikit-learn.org/stable/modules/generated/sklearn.datasets.load_digits.html) that we will use for the experimentation. Let's load it and take a look at the digits."
   ]
  },
  {
   "cell_type": "code",
   "execution_count": null,
   "metadata": {},
   "outputs": [],
   "source": [
    "from sklearn import datasets, svm, metrics\n",
    "from sklearn.discriminant_analysis import LinearDiscriminantAnalysis\n",
    "\n",
    "digits = datasets.load_digits()\n",
    "\n",
    "images_and_labels = list(zip(digits.images, digits.target))\n",
    "for index, (image, label) in enumerate(images_and_labels[:10]):\n",
    "    plt.subplot(1, 10, index + 1)\n",
    "    plt.axis('off')\n",
    "    plt.imshow(image, cmap=plt.cm.gray_r, interpolation='nearest')\n",
    "    plt.tight_layout()\n",
    "    "
   ]
  },
  {
   "cell_type": "markdown",
   "metadata": {},
   "source": [
    "The images are just 8x8 pixels but they contain enough information to recognize the digits"
   ]
  },
  {
   "cell_type": "markdown",
   "metadata": {},
   "source": [
    "Let's split the dataset and train an LDA classifier"
   ]
  },
  {
   "cell_type": "code",
   "execution_count": null,
   "metadata": {},
   "outputs": [],
   "source": [
    "from sklearn.model_selection import train_test_split\n",
    "\n",
    "X = digits.data\n",
    "y = digits.target\n",
    "target_names = digits.target_names\n",
    "\n",
    "X_train, X_test, y_train, y_test = train_test_split(X, y, test_size=0.25, random_state=44)\n",
    "\n",
    "# Create a classifier: a Fisher's LDA classifier\n",
    "lda = LinearDiscriminantAnalysis(n_components=4, solver='eigen', shrinkage=0.1)\n",
    "\n",
    "# Train lda on the first half of the digits\n",
    "lda = lda.fit(X_train, y_train)"
   ]
  },
  {
   "cell_type": "markdown",
   "metadata": {},
   "source": [
    "Once trained, we can actually take a look at the representation of the original dataset in the new dimensionality that LDA generates"
   ]
  },
  {
   "cell_type": "code",
   "execution_count": null,
   "metadata": {},
   "outputs": [],
   "source": [
    "# Transform the original dataset to the dimensionality generated by LDA\n",
    "X_r_lda = lda.transform(X)\n",
    "\n",
    "# Visualize transformed data on learnt discriminant coordinates\n",
    "with plt.style.context('seaborn-talk'):\n",
    "    fig, axes = plt.subplots(1,2,figsize=[13,6])\n",
    "    for i, target_name in zip([0,1,2,3,4,5,6,7,8,9], target_names):\n",
    "        axes[0].scatter(X_r_lda[y == i, 0], X_r_lda[y == i, 1], alpha=.8,\n",
    "                        label=target_name, marker='$%.f$'%i)\n",
    "        axes[1].scatter(X_r_lda[y == i, 2], X_r_lda[y == i, 3], alpha=.8,\n",
    "                        label=target_name, marker='$%.f$'%i)\n",
    "    axes[0].set_xlabel('Discriminant Coordinate 1')\n",
    "    axes[0].set_ylabel('Discriminant Coordinate 2')\n",
    "    axes[1].set_xlabel('Discriminant Coordinate 3')\n",
    "    axes[1].set_ylabel('Discriminant Coordinate 4')\n",
    "    plt.tight_layout()"
   ]
  },
  {
   "cell_type": "markdown",
   "metadata": {},
   "source": [
    "As you can see, numbers are pretty well separated according to the LDA coordinates. Remember that this is exactly what LDA is expected to do: generate the representation of the data where the classes are better separated.\n",
    "Based on that, we can expect a great performance, let's check it"
   ]
  },
  {
   "cell_type": "code",
   "execution_count": null,
   "metadata": {},
   "outputs": [],
   "source": [
    "from sklearn.metrics import accuracy_score, classification_report, plot_confusion_matrix\n",
    "\n",
    "print(\"Accuracy = {0:.4f}\\n\".format(accuracy_score(lda.predict(X_test), y_test)))\n",
    "print(\"Classification Report\")\n",
    "print(classification_report(lda.predict(X_test), y_test))"
   ]
  },
  {
   "cell_type": "markdown",
   "metadata": {},
   "source": [
    "As expected, we achieve a great accuracy. Moreover, by inspecting the classification report we can see that LDA performs great on recognizing most of the digits. The main problem it has is on recognizing 8s, 9s and 1s. If we inspect the confusion matrix, we can see that this is because LDA is confusing them (i.e., they look kind of similar in the dataset)."
   ]
  },
  {
   "cell_type": "code",
   "execution_count": null,
   "metadata": {},
   "outputs": [],
   "source": [
    "plot_confusion_matrix(lda, X_test, y_test,cmap=plt.cm.Blues, labels=target_names);"
   ]
  }
 ],
 "metadata": {
  "kernelspec": {
   "display_name": "Python 3",
   "language": "python",
   "name": "python3"
  },
  "language_info": {
   "codemirror_mode": {
    "name": "ipython",
    "version": 3
   },
   "file_extension": ".py",
   "mimetype": "text/x-python",
   "name": "python",
   "nbconvert_exporter": "python",
   "pygments_lexer": "ipython3",
   "version": "3.8.5"
  }
 },
 "nbformat": 4,
 "nbformat_minor": 4
}
